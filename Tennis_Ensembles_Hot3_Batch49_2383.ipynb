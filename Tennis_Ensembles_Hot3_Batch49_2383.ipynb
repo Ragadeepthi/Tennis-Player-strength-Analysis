{
 "cells": [
  {
   "cell_type": "code",
   "execution_count": 267,
   "metadata": {},
   "outputs": [],
   "source": [
    "import pandas as pd\n",
    "import numpy as np\n",
    "\n",
    "from sklearn.model_selection import train_test_split\n",
    "from sklearn.preprocessing import LabelEncoder\n",
    "\n",
    "#Randomforest\n",
    "from sklearn.ensemble import RandomForestClassifier\n",
    "from sklearn.ensemble import BaggingClassifier\n",
    "from xgboost import XGBClassifier\n",
    "from sklearn.ensemble import AdaBoostClassifier\n",
    "from sklearn.tree import DecisionTreeClassifier\n",
    "from sklearn.metrics import accuracy_score, log_loss\n",
    "from catboost import CatBoostClassifier\n",
    "\n",
    "\n",
    "import math\n",
    "from copy import deepcopy\n",
    "from collections import defaultdict\n",
    "\n",
    "import seaborn as sns\n",
    "import matplotlib.pyplot as plt\n",
    "\n",
    "\n",
    "import os"
   ]
  },
  {
   "cell_type": "code",
   "execution_count": 43,
   "metadata": {},
   "outputs": [],
   "source": [
    "#change directory\n",
    "os.chdir(\"D:/HoTes/CSC7305c_ML_Hot_2383_Batch49/Tennis dataset_stacking_adab_xgb\")"
   ]
  },
  {
   "cell_type": "code",
   "execution_count": 44,
   "metadata": {},
   "outputs": [],
   "source": [
    "#read datasets\n",
    "tennis_data= pd.read_csv(\"Batch49_CSE7305c_CuTE_train-1544001028037.csv\")"
   ]
  },
  {
   "cell_type": "code",
   "execution_count": 45,
   "metadata": {},
   "outputs": [
    {
     "data": {
      "text/plain": [
       "(8001, 27)"
      ]
     },
     "execution_count": 45,
     "metadata": {},
     "output_type": "execute_result"
    }
   ],
   "source": [
    "#shape\n",
    "tennis_data.shape"
   ]
  },
  {
   "cell_type": "code",
   "execution_count": 46,
   "metadata": {},
   "outputs": [
    {
     "name": "stdout",
     "output_type": "stream",
     "text": [
      "<class 'pandas.core.frame.DataFrame'>\n",
      "RangeIndex: 8001 entries, 0 to 8000\n",
      "Data columns (total 27 columns):\n",
      "rally                                 8001 non-null int64\n",
      "serve                                 8001 non-null int64\n",
      "hitpoint                              8001 non-null object\n",
      "speed                                 8001 non-null float64\n",
      "net.clearance                         8001 non-null float64\n",
      "distance.from.sideline                8001 non-null float64\n",
      "depth                                 8001 non-null float64\n",
      "outside.sideline                      8001 non-null bool\n",
      "outside.baseline                      8001 non-null bool\n",
      "player.distance.travelled             8001 non-null float64\n",
      "player.impact.depth                   8001 non-null float64\n",
      "player.impact.distance.from.center    8001 non-null float64\n",
      "player.depth                          8001 non-null float64\n",
      "player.distance.from.center           8001 non-null float64\n",
      "previous.speed                        8001 non-null float64\n",
      "previous.net.clearance                8001 non-null float64\n",
      "previous.distance.from.sideline       8001 non-null float64\n",
      "previous.depth                        8001 non-null float64\n",
      "opponent.depth                        8001 non-null float64\n",
      "opponent.distance.from.center         8001 non-null float64\n",
      "same.side                             8001 non-null bool\n",
      "previous.hitpoint                     8001 non-null object\n",
      "previous.time.to.net                  8001 non-null float64\n",
      "server.is.impact.player               8001 non-null bool\n",
      "outcome                               8001 non-null object\n",
      "gender                                8001 non-null object\n",
      "ID                                    8001 non-null int64\n",
      "dtypes: bool(4), float64(16), int64(3), object(4)\n",
      "memory usage: 1.4+ MB\n"
     ]
    }
   ],
   "source": [
    "#datatypes\n",
    "tennis_data.info()"
   ]
  },
  {
   "cell_type": "code",
   "execution_count": 47,
   "metadata": {},
   "outputs": [],
   "source": [
    "# Columns in Data With Categorical Values- Must LabelEncode them\n",
    "categorical_cols = ['hitpoint', 'outside.sideline', 'outside.baseline', 'same.side', \n",
    "                    'previous.hitpoint', 'server.is.impact.player', 'outcome']\n",
    "\n",
    "# Columns in the Data That Should Be Scaled\n",
    "scaled_data = ['serve', 'rally', 'speed', 'net.clearance', 'distance.from.sideline', 'depth', 'player.distance.travelled', \n",
    "               'player.impact.depth', 'player.impact.distance.from.center', 'player.depth', \n",
    "               'player.distance.from.center', 'previous.speed', 'previous.net.clearance', \n",
    "               'previous.distance.from.sideline', 'previous.depth', 'opponent.depth', \n",
    "               'opponent.distance.from.center', 'previous.time.to.net']"
   ]
  },
  {
   "cell_type": "code",
   "execution_count": 48,
   "metadata": {},
   "outputs": [],
   "source": [
    "tennis_data = tennis_data.drop(['gender', 'ID'], axis=1)"
   ]
  },
  {
   "cell_type": "code",
   "execution_count": 49,
   "metadata": {},
   "outputs": [],
   "source": [
    "tennis_data[categorical_cols]= tennis_data[categorical_cols].astype('category')"
   ]
  },
  {
   "cell_type": "code",
   "execution_count": 50,
   "metadata": {},
   "outputs": [
    {
     "data": {
      "text/plain": [
       "rally                                 0\n",
       "serve                                 0\n",
       "hitpoint                              0\n",
       "speed                                 0\n",
       "net.clearance                         0\n",
       "distance.from.sideline                0\n",
       "depth                                 0\n",
       "outside.sideline                      0\n",
       "outside.baseline                      0\n",
       "player.distance.travelled             0\n",
       "player.impact.depth                   0\n",
       "player.impact.distance.from.center    0\n",
       "player.depth                          0\n",
       "player.distance.from.center           0\n",
       "previous.speed                        0\n",
       "previous.net.clearance                0\n",
       "previous.distance.from.sideline       0\n",
       "previous.depth                        0\n",
       "opponent.depth                        0\n",
       "opponent.distance.from.center         0\n",
       "same.side                             0\n",
       "previous.hitpoint                     0\n",
       "previous.time.to.net                  0\n",
       "server.is.impact.player               0\n",
       "outcome                               0\n",
       "dtype: int64"
      ]
     },
     "execution_count": 50,
     "metadata": {},
     "output_type": "execute_result"
    }
   ],
   "source": [
    "tennis_data.isnull().sum()"
   ]
  },
  {
   "cell_type": "markdown",
   "metadata": {},
   "source": [
    "## Feature Engineering"
   ]
  },
  {
   "cell_type": "code",
   "execution_count": 51,
   "metadata": {},
   "outputs": [],
   "source": [
    "####################### Feature Engineering #################\n",
    "def feature_engineer(data):\n",
    "    \n",
    "    # Speed difference between previous and last shot\n",
    "    data['speed.difference'] = data['speed'] - data['previous.speed']\n",
    "    \n",
    "    # Net clearance difference between previous and last shot\n",
    "    data['net.clearance.difference'] = data['net.clearance'] - data['previous.net.clearance']\n",
    "    \n",
    "    # The actual distance the player was from the sideline\n",
    "    data['true.distance.from.sideline'] = [dist if not boolean else (dist * -1) \n",
    "                                           for dist, boolean in \n",
    "                                           zip(data['distance.from.sideline'], \n",
    "                                               data['outside.sideline'])]\n",
    "\n",
    "    # The actual distance the player was from the baseline\n",
    "    data['true.distance.from.baseline'] = [dist if not boolean else (dist * -1) \n",
    "                                           for dist, boolean in \n",
    "                                           zip(data['depth'], \n",
    "                                               data['outside.baseline'])]\n",
    "\n",
    "    # Opponent distance to net + player distance to net\n",
    "    data['player.distance.from.other.length'] = data['player.depth'] + data['opponent.depth']\n",
    "\n",
    "    # Opponent distance from center + player distance to center\n",
    "    data['player.distance.from.other.width'] = [math.fabs(p_center - o_center)\n",
    "                                                     if boolean else p_center + o_center\n",
    "                                                     for p_center, o_center, boolean in \n",
    "                                                     zip(data['player.distance.from.center'], \n",
    "                                                         data['opponent.distance.from.center'], \n",
    "                                                         data['same.side'])]\n",
    "\n",
    "    # Straight line distance between players\n",
    "    data['bw.player.distance.penultimate'] = [math.hypot(length, width)\n",
    "                                                 for length, width in \n",
    "                                                 zip(data['player.distance.from.other.length'], \n",
    "                                                     data['player.distance.from.other.width'])]\n",
    "\n",
    "    # Distance penultimate shot was made from net- previous to net (s) * penultimate shot (m/s)\n",
    "    data['player.from.net.penultimate'] = data['previous.speed'] * data['previous.time.to.net']\n",
    "    \n",
    "    return data\n",
    "\n",
    "# Perform Feature Engineering\n",
    "tennis_data_fe = feature_engineer(tennis_data)"
   ]
  },
  {
   "cell_type": "code",
   "execution_count": 52,
   "metadata": {},
   "outputs": [
    {
     "data": {
      "text/html": [
       "<div>\n",
       "<style scoped>\n",
       "    .dataframe tbody tr th:only-of-type {\n",
       "        vertical-align: middle;\n",
       "    }\n",
       "\n",
       "    .dataframe tbody tr th {\n",
       "        vertical-align: top;\n",
       "    }\n",
       "\n",
       "    .dataframe thead th {\n",
       "        text-align: right;\n",
       "    }\n",
       "</style>\n",
       "<table border=\"1\" class=\"dataframe\">\n",
       "  <thead>\n",
       "    <tr style=\"text-align: right;\">\n",
       "      <th></th>\n",
       "      <th>rally</th>\n",
       "      <th>serve</th>\n",
       "      <th>hitpoint</th>\n",
       "      <th>speed</th>\n",
       "      <th>net.clearance</th>\n",
       "      <th>distance.from.sideline</th>\n",
       "      <th>depth</th>\n",
       "      <th>outside.sideline</th>\n",
       "      <th>outside.baseline</th>\n",
       "      <th>player.distance.travelled</th>\n",
       "      <th>...</th>\n",
       "      <th>server.is.impact.player</th>\n",
       "      <th>outcome</th>\n",
       "      <th>speed.difference</th>\n",
       "      <th>net.clearance.difference</th>\n",
       "      <th>true.distance.from.sideline</th>\n",
       "      <th>true.distance.from.baseline</th>\n",
       "      <th>player.distance.from.other.length</th>\n",
       "      <th>player.distance.from.other.width</th>\n",
       "      <th>bw.player.distance.penultimate</th>\n",
       "      <th>player.from.net.penultimate</th>\n",
       "    </tr>\n",
       "  </thead>\n",
       "  <tbody>\n",
       "    <tr>\n",
       "      <th>0</th>\n",
       "      <td>4</td>\n",
       "      <td>1</td>\n",
       "      <td>B</td>\n",
       "      <td>35.515042</td>\n",
       "      <td>-0.021725</td>\n",
       "      <td>3.474766</td>\n",
       "      <td>6.797621</td>\n",
       "      <td>False</td>\n",
       "      <td>False</td>\n",
       "      <td>1.467570</td>\n",
       "      <td>...</td>\n",
       "      <td>False</td>\n",
       "      <td>UE</td>\n",
       "      <td>3.201450</td>\n",
       "      <td>-1.372257</td>\n",
       "      <td>3.474766</td>\n",
       "      <td>6.797621</td>\n",
       "      <td>26.2332</td>\n",
       "      <td>1.8394</td>\n",
       "      <td>26.297608</td>\n",
       "      <td>14.389823</td>\n",
       "    </tr>\n",
       "    <tr>\n",
       "      <th>1</th>\n",
       "      <td>4</td>\n",
       "      <td>2</td>\n",
       "      <td>B</td>\n",
       "      <td>33.382640</td>\n",
       "      <td>1.114202</td>\n",
       "      <td>2.540801</td>\n",
       "      <td>2.608708</td>\n",
       "      <td>False</td>\n",
       "      <td>True</td>\n",
       "      <td>2.311931</td>\n",
       "      <td>...</td>\n",
       "      <td>False</td>\n",
       "      <td>FE</td>\n",
       "      <td>-0.678148</td>\n",
       "      <td>0.353704</td>\n",
       "      <td>2.540801</td>\n",
       "      <td>-2.608708</td>\n",
       "      <td>24.9902</td>\n",
       "      <td>7.4286</td>\n",
       "      <td>26.070945</td>\n",
       "      <td>14.729042</td>\n",
       "    </tr>\n",
       "    <tr>\n",
       "      <th>2</th>\n",
       "      <td>23</td>\n",
       "      <td>1</td>\n",
       "      <td>B</td>\n",
       "      <td>22.316690</td>\n",
       "      <td>-0.254046</td>\n",
       "      <td>3.533166</td>\n",
       "      <td>9.435749</td>\n",
       "      <td>False</td>\n",
       "      <td>False</td>\n",
       "      <td>3.903728</td>\n",
       "      <td>...</td>\n",
       "      <td>True</td>\n",
       "      <td>FE</td>\n",
       "      <td>-17.489938</td>\n",
       "      <td>-0.631778</td>\n",
       "      <td>3.533166</td>\n",
       "      <td>9.435749</td>\n",
       "      <td>27.5616</td>\n",
       "      <td>3.7472</td>\n",
       "      <td>27.815163</td>\n",
       "      <td>15.824638</td>\n",
       "    </tr>\n",
       "    <tr>\n",
       "      <th>3</th>\n",
       "      <td>9</td>\n",
       "      <td>1</td>\n",
       "      <td>F</td>\n",
       "      <td>36.837309</td>\n",
       "      <td>0.766694</td>\n",
       "      <td>0.586885</td>\n",
       "      <td>3.342180</td>\n",
       "      <td>True</td>\n",
       "      <td>False</td>\n",
       "      <td>0.583745</td>\n",
       "      <td>...</td>\n",
       "      <td>True</td>\n",
       "      <td>UE</td>\n",
       "      <td>11.818491</td>\n",
       "      <td>-0.472339</td>\n",
       "      <td>-0.586885</td>\n",
       "      <td>3.342180</td>\n",
       "      <td>27.4088</td>\n",
       "      <td>0.1418</td>\n",
       "      <td>27.409167</td>\n",
       "      <td>16.812251</td>\n",
       "    </tr>\n",
       "    <tr>\n",
       "      <th>4</th>\n",
       "      <td>4</td>\n",
       "      <td>1</td>\n",
       "      <td>B</td>\n",
       "      <td>35.544208</td>\n",
       "      <td>0.116162</td>\n",
       "      <td>0.918725</td>\n",
       "      <td>5.499119</td>\n",
       "      <td>False</td>\n",
       "      <td>False</td>\n",
       "      <td>2.333456</td>\n",
       "      <td>...</td>\n",
       "      <td>False</td>\n",
       "      <td>W</td>\n",
       "      <td>-1.246771</td>\n",
       "      <td>-0.049569</td>\n",
       "      <td>0.918725</td>\n",
       "      <td>5.499119</td>\n",
       "      <td>25.4968</td>\n",
       "      <td>1.4232</td>\n",
       "      <td>25.536490</td>\n",
       "      <td>12.524057</td>\n",
       "    </tr>\n",
       "  </tbody>\n",
       "</table>\n",
       "<p>5 rows × 33 columns</p>\n",
       "</div>"
      ],
      "text/plain": [
       "   rally  serve hitpoint      speed  net.clearance  distance.from.sideline  \\\n",
       "0      4      1        B  35.515042      -0.021725                3.474766   \n",
       "1      4      2        B  33.382640       1.114202                2.540801   \n",
       "2     23      1        B  22.316690      -0.254046                3.533166   \n",
       "3      9      1        F  36.837309       0.766694                0.586885   \n",
       "4      4      1        B  35.544208       0.116162                0.918725   \n",
       "\n",
       "      depth outside.sideline outside.baseline  player.distance.travelled  \\\n",
       "0  6.797621            False            False                   1.467570   \n",
       "1  2.608708            False             True                   2.311931   \n",
       "2  9.435749            False            False                   3.903728   \n",
       "3  3.342180             True            False                   0.583745   \n",
       "4  5.499119            False            False                   2.333456   \n",
       "\n",
       "              ...               server.is.impact.player  outcome  \\\n",
       "0             ...                                 False       UE   \n",
       "1             ...                                 False       FE   \n",
       "2             ...                                  True       FE   \n",
       "3             ...                                  True       UE   \n",
       "4             ...                                 False        W   \n",
       "\n",
       "   speed.difference  net.clearance.difference  true.distance.from.sideline  \\\n",
       "0          3.201450                 -1.372257                     3.474766   \n",
       "1         -0.678148                  0.353704                     2.540801   \n",
       "2        -17.489938                 -0.631778                     3.533166   \n",
       "3         11.818491                 -0.472339                    -0.586885   \n",
       "4         -1.246771                 -0.049569                     0.918725   \n",
       "\n",
       "   true.distance.from.baseline  player.distance.from.other.length  \\\n",
       "0                     6.797621                            26.2332   \n",
       "1                    -2.608708                            24.9902   \n",
       "2                     9.435749                            27.5616   \n",
       "3                     3.342180                            27.4088   \n",
       "4                     5.499119                            25.4968   \n",
       "\n",
       "   player.distance.from.other.width  bw.player.distance.penultimate  \\\n",
       "0                            1.8394                       26.297608   \n",
       "1                            7.4286                       26.070945   \n",
       "2                            3.7472                       27.815163   \n",
       "3                            0.1418                       27.409167   \n",
       "4                            1.4232                       25.536490   \n",
       "\n",
       "   player.from.net.penultimate  \n",
       "0                    14.389823  \n",
       "1                    14.729042  \n",
       "2                    15.824638  \n",
       "3                    16.812251  \n",
       "4                    12.524057  \n",
       "\n",
       "[5 rows x 33 columns]"
      ]
     },
     "execution_count": 52,
     "metadata": {},
     "output_type": "execute_result"
    }
   ],
   "source": [
    "tennis_data_fe.head()"
   ]
  },
  {
   "cell_type": "code",
   "execution_count": 53,
   "metadata": {},
   "outputs": [
    {
     "data": {
      "text/plain": [
       "(8001, 33)"
      ]
     },
     "execution_count": 53,
     "metadata": {},
     "output_type": "execute_result"
    }
   ],
   "source": [
    "tennis_data_fe.shape"
   ]
  },
  {
   "cell_type": "code",
   "execution_count": 54,
   "metadata": {},
   "outputs": [],
   "source": [
    "# Columns to be dropped\n",
    "dropcols = ['same.side', 'server.is.impact.player', \n",
    "                  'outside.baseline', 'previous.hitpoint', 'hitpoint', 'rally', 'serve', \n",
    "                  'outside.sideline', 'player.distance.from.center', 'depth', \n",
    "                  'player.distance.from.other.length', 'bw.player.distance.penultimate',\n",
    "                  'player.distance.from.other.width', 'previous.time.to.net',\n",
    "                  'player.impact.distance.from.center', 'opponent.distance.from.center', \n",
    "                  'player.from.net.penultimate','net.clearance.difference']\n",
    "\n",
    "tennis_data_fe = tennis_data_fe.drop(dropcols, axis=1) "
   ]
  },
  {
   "cell_type": "code",
   "execution_count": 55,
   "metadata": {},
   "outputs": [
    {
     "data": {
      "text/plain": [
       "(8001, 15)"
      ]
     },
     "execution_count": 55,
     "metadata": {},
     "output_type": "execute_result"
    }
   ],
   "source": [
    "tennis_data_fe.shape"
   ]
  },
  {
   "cell_type": "code",
   "execution_count": 56,
   "metadata": {},
   "outputs": [],
   "source": [
    "target = tennis_data_fe['outcome']"
   ]
  },
  {
   "cell_type": "code",
   "execution_count": 57,
   "metadata": {},
   "outputs": [],
   "source": [
    "tennis_data_fe= tennis_data_fe.drop('outcome', axis=1)"
   ]
  },
  {
   "cell_type": "code",
   "execution_count": 58,
   "metadata": {},
   "outputs": [
    {
     "name": "stdout",
     "output_type": "stream",
     "text": [
      "<class 'pandas.core.frame.DataFrame'>\n",
      "RangeIndex: 8001 entries, 0 to 8000\n",
      "Data columns (total 14 columns):\n",
      "speed                              8001 non-null float64\n",
      "net.clearance                      8001 non-null float64\n",
      "distance.from.sideline             8001 non-null float64\n",
      "player.distance.travelled          8001 non-null float64\n",
      "player.impact.depth                8001 non-null float64\n",
      "player.depth                       8001 non-null float64\n",
      "previous.speed                     8001 non-null float64\n",
      "previous.net.clearance             8001 non-null float64\n",
      "previous.distance.from.sideline    8001 non-null float64\n",
      "previous.depth                     8001 non-null float64\n",
      "opponent.depth                     8001 non-null float64\n",
      "speed.difference                   8001 non-null float64\n",
      "true.distance.from.sideline        8001 non-null float64\n",
      "true.distance.from.baseline        8001 non-null float64\n",
      "dtypes: float64(14)\n",
      "memory usage: 875.2 KB\n"
     ]
    }
   ],
   "source": [
    "tennis_data_fe.info()"
   ]
  },
  {
   "cell_type": "code",
   "execution_count": 24,
   "metadata": {},
   "outputs": [],
   "source": [
    "tennis_data_fe= pd.get_dummies(tennis_data_fe, drop_first=True)"
   ]
  },
  {
   "cell_type": "code",
   "execution_count": 25,
   "metadata": {},
   "outputs": [
    {
     "data": {
      "text/plain": [
       "(8001, 16)"
      ]
     },
     "execution_count": 25,
     "metadata": {},
     "output_type": "execute_result"
    }
   ],
   "source": [
    "tennis_data_fe.shape"
   ]
  },
  {
   "cell_type": "code",
   "execution_count": 26,
   "metadata": {},
   "outputs": [
    {
     "data": {
      "text/html": [
       "<div>\n",
       "<style scoped>\n",
       "    .dataframe tbody tr th:only-of-type {\n",
       "        vertical-align: middle;\n",
       "    }\n",
       "\n",
       "    .dataframe tbody tr th {\n",
       "        vertical-align: top;\n",
       "    }\n",
       "\n",
       "    .dataframe thead th {\n",
       "        text-align: right;\n",
       "    }\n",
       "</style>\n",
       "<table border=\"1\" class=\"dataframe\">\n",
       "  <thead>\n",
       "    <tr style=\"text-align: right;\">\n",
       "      <th></th>\n",
       "      <th>speed</th>\n",
       "      <th>net.clearance</th>\n",
       "      <th>distance.from.sideline</th>\n",
       "      <th>player.distance.travelled</th>\n",
       "      <th>player.impact.depth</th>\n",
       "      <th>player.depth</th>\n",
       "      <th>previous.speed</th>\n",
       "      <th>previous.net.clearance</th>\n",
       "      <th>previous.distance.from.sideline</th>\n",
       "      <th>previous.depth</th>\n",
       "      <th>opponent.depth</th>\n",
       "      <th>speed.difference</th>\n",
       "      <th>true.distance.from.sideline</th>\n",
       "      <th>true.distance.from.baseline</th>\n",
       "      <th>outcome_UE</th>\n",
       "      <th>outcome_W</th>\n",
       "    </tr>\n",
       "  </thead>\n",
       "  <tbody>\n",
       "    <tr>\n",
       "      <th>0</th>\n",
       "      <td>35.515042</td>\n",
       "      <td>-0.021725</td>\n",
       "      <td>3.474766</td>\n",
       "      <td>1.467570</td>\n",
       "      <td>14.1758</td>\n",
       "      <td>13.6704</td>\n",
       "      <td>32.313592</td>\n",
       "      <td>1.350533</td>\n",
       "      <td>2.449182</td>\n",
       "      <td>0.705435</td>\n",
       "      <td>12.5628</td>\n",
       "      <td>3.201450</td>\n",
       "      <td>3.474766</td>\n",
       "      <td>6.797621</td>\n",
       "      <td>1</td>\n",
       "      <td>0</td>\n",
       "    </tr>\n",
       "    <tr>\n",
       "      <th>1</th>\n",
       "      <td>33.382640</td>\n",
       "      <td>1.114202</td>\n",
       "      <td>2.540801</td>\n",
       "      <td>2.311931</td>\n",
       "      <td>12.7396</td>\n",
       "      <td>12.6358</td>\n",
       "      <td>34.060788</td>\n",
       "      <td>0.760499</td>\n",
       "      <td>0.583291</td>\n",
       "      <td>3.856600</td>\n",
       "      <td>12.3544</td>\n",
       "      <td>-0.678148</td>\n",
       "      <td>2.540801</td>\n",
       "      <td>-2.608708</td>\n",
       "      <td>0</td>\n",
       "      <td>0</td>\n",
       "    </tr>\n",
       "    <tr>\n",
       "      <th>2</th>\n",
       "      <td>22.316690</td>\n",
       "      <td>-0.254046</td>\n",
       "      <td>3.533166</td>\n",
       "      <td>3.903728</td>\n",
       "      <td>15.3782</td>\n",
       "      <td>13.6996</td>\n",
       "      <td>39.806628</td>\n",
       "      <td>0.377732</td>\n",
       "      <td>1.115250</td>\n",
       "      <td>2.908892</td>\n",
       "      <td>13.8620</td>\n",
       "      <td>-17.489938</td>\n",
       "      <td>3.533166</td>\n",
       "      <td>9.435749</td>\n",
       "      <td>0</td>\n",
       "      <td>0</td>\n",
       "    </tr>\n",
       "    <tr>\n",
       "      <th>3</th>\n",
       "      <td>36.837309</td>\n",
       "      <td>0.766694</td>\n",
       "      <td>0.586885</td>\n",
       "      <td>0.583745</td>\n",
       "      <td>13.7308</td>\n",
       "      <td>13.1492</td>\n",
       "      <td>25.018818</td>\n",
       "      <td>1.239033</td>\n",
       "      <td>3.256695</td>\n",
       "      <td>0.557554</td>\n",
       "      <td>14.2596</td>\n",
       "      <td>11.818491</td>\n",
       "      <td>-0.586885</td>\n",
       "      <td>3.342180</td>\n",
       "      <td>1</td>\n",
       "      <td>0</td>\n",
       "    </tr>\n",
       "    <tr>\n",
       "      <th>4</th>\n",
       "      <td>35.544208</td>\n",
       "      <td>0.116162</td>\n",
       "      <td>0.918725</td>\n",
       "      <td>2.333456</td>\n",
       "      <td>15.1992</td>\n",
       "      <td>14.1310</td>\n",
       "      <td>36.790979</td>\n",
       "      <td>0.165731</td>\n",
       "      <td>1.431146</td>\n",
       "      <td>3.945317</td>\n",
       "      <td>11.3658</td>\n",
       "      <td>-1.246771</td>\n",
       "      <td>0.918725</td>\n",
       "      <td>5.499119</td>\n",
       "      <td>0</td>\n",
       "      <td>1</td>\n",
       "    </tr>\n",
       "  </tbody>\n",
       "</table>\n",
       "</div>"
      ],
      "text/plain": [
       "       speed  net.clearance  distance.from.sideline  \\\n",
       "0  35.515042      -0.021725                3.474766   \n",
       "1  33.382640       1.114202                2.540801   \n",
       "2  22.316690      -0.254046                3.533166   \n",
       "3  36.837309       0.766694                0.586885   \n",
       "4  35.544208       0.116162                0.918725   \n",
       "\n",
       "   player.distance.travelled  player.impact.depth  player.depth  \\\n",
       "0                   1.467570              14.1758       13.6704   \n",
       "1                   2.311931              12.7396       12.6358   \n",
       "2                   3.903728              15.3782       13.6996   \n",
       "3                   0.583745              13.7308       13.1492   \n",
       "4                   2.333456              15.1992       14.1310   \n",
       "\n",
       "   previous.speed  previous.net.clearance  previous.distance.from.sideline  \\\n",
       "0       32.313592                1.350533                         2.449182   \n",
       "1       34.060788                0.760499                         0.583291   \n",
       "2       39.806628                0.377732                         1.115250   \n",
       "3       25.018818                1.239033                         3.256695   \n",
       "4       36.790979                0.165731                         1.431146   \n",
       "\n",
       "   previous.depth  opponent.depth  speed.difference  \\\n",
       "0        0.705435         12.5628          3.201450   \n",
       "1        3.856600         12.3544         -0.678148   \n",
       "2        2.908892         13.8620        -17.489938   \n",
       "3        0.557554         14.2596         11.818491   \n",
       "4        3.945317         11.3658         -1.246771   \n",
       "\n",
       "   true.distance.from.sideline  true.distance.from.baseline  outcome_UE  \\\n",
       "0                     3.474766                     6.797621           1   \n",
       "1                     2.540801                    -2.608708           0   \n",
       "2                     3.533166                     9.435749           0   \n",
       "3                    -0.586885                     3.342180           1   \n",
       "4                     0.918725                     5.499119           0   \n",
       "\n",
       "   outcome_W  \n",
       "0          0  \n",
       "1          0  \n",
       "2          0  \n",
       "3          0  \n",
       "4          1  "
      ]
     },
     "execution_count": 26,
     "metadata": {},
     "output_type": "execute_result"
    }
   ],
   "source": [
    "tennis_data_fe.head()"
   ]
  },
  {
   "cell_type": "code",
   "execution_count": 210,
   "metadata": {},
   "outputs": [
    {
     "data": {
      "text/plain": [
       "<matplotlib.axes._subplots.AxesSubplot at 0x22c607bab70>"
      ]
     },
     "execution_count": 210,
     "metadata": {},
     "output_type": "execute_result"
    },
    {
     "data": {
      "image/png": "[encoded data removed]",
      "text/plain": [
       "<Figure size 720x720 with 2 Axes>"
      ]
     },
     "metadata": {},
     "output_type": "display_data"
    }
   ],
   "source": [
    "colormap = plt.cm.RdBu\n",
    "plt.figure(figsize=(10,10))\n",
    "plt.title('Pearson Correlation of Features', y=1.05, size=15)\n",
    "sns.heatmap(tennis_data_fe.corr(),linewidths=0.1,vmax=1.0, \n",
    "            square=True, cmap=colormap, linecolor='white', annot=True)"
   ]
  },
  {
   "cell_type": "markdown",
   "metadata": {},
   "source": [
    "## splitting"
   ]
  },
  {
   "cell_type": "code",
   "execution_count": 60,
   "metadata": {},
   "outputs": [],
   "source": [
    "X_train, X_test, y_train, y_test = train_test_split(tennis_data_fe, target, test_size = 0.25, random_state = 786)"
   ]
  },
  {
   "cell_type": "code",
   "execution_count": null,
   "metadata": {},
   "outputs": [],
   "source": [
    "#standardization"
   ]
  },
  {
   "cell_type": "code",
   "execution_count": 162,
   "metadata": {},
   "outputs": [],
   "source": [
    "#train data standardization\n",
    "from sklearn.preprocessing import StandardScaler\n",
    "standardizer = StandardScaler()\n",
    "standardizer.fit(X_train)\n",
    "X_train = pd.DataFrame(standardizer.transform(X_train), columns=tennis_data_fe.columns)"
   ]
  },
  {
   "cell_type": "code",
   "execution_count": 164,
   "metadata": {},
   "outputs": [],
   "source": [
    "#Test data standardization\n",
    "standardizer = StandardScaler()\n",
    "standardizer.fit(X_test)\n",
    "X_test = pd.DataFrame(standardizer.transform(X_test), columns=tennis_data_fe.columns)"
   ]
  },
  {
   "cell_type": "code",
   "execution_count": 165,
   "metadata": {},
   "outputs": [
    {
     "data": {
      "text/html": [
       "<div>\n",
       "<style scoped>\n",
       "    .dataframe tbody tr th:only-of-type {\n",
       "        vertical-align: middle;\n",
       "    }\n",
       "\n",
       "    .dataframe tbody tr th {\n",
       "        vertical-align: top;\n",
       "    }\n",
       "\n",
       "    .dataframe thead th {\n",
       "        text-align: right;\n",
       "    }\n",
       "</style>\n",
       "<table border=\"1\" class=\"dataframe\">\n",
       "  <thead>\n",
       "    <tr style=\"text-align: right;\">\n",
       "      <th></th>\n",
       "      <th>speed</th>\n",
       "      <th>net.clearance</th>\n",
       "      <th>distance.from.sideline</th>\n",
       "      <th>player.distance.travelled</th>\n",
       "      <th>player.impact.depth</th>\n",
       "      <th>player.depth</th>\n",
       "      <th>previous.speed</th>\n",
       "      <th>previous.net.clearance</th>\n",
       "      <th>previous.distance.from.sideline</th>\n",
       "      <th>previous.depth</th>\n",
       "      <th>opponent.depth</th>\n",
       "      <th>speed.difference</th>\n",
       "      <th>true.distance.from.sideline</th>\n",
       "      <th>true.distance.from.baseline</th>\n",
       "    </tr>\n",
       "  </thead>\n",
       "  <tbody>\n",
       "    <tr>\n",
       "      <th>0</th>\n",
       "      <td>1.251841</td>\n",
       "      <td>0.172085</td>\n",
       "      <td>0.317546</td>\n",
       "      <td>0.172419</td>\n",
       "      <td>0.639689</td>\n",
       "      <td>0.552107</td>\n",
       "      <td>0.482919</td>\n",
       "      <td>-0.381947</td>\n",
       "      <td>-0.446773</td>\n",
       "      <td>-0.451524</td>\n",
       "      <td>0.181863</td>\n",
       "      <td>0.600468</td>\n",
       "      <td>0.439649</td>\n",
       "      <td>-1.122823</td>\n",
       "    </tr>\n",
       "    <tr>\n",
       "      <th>1</th>\n",
       "      <td>0.385337</td>\n",
       "      <td>-0.741854</td>\n",
       "      <td>0.315626</td>\n",
       "      <td>0.176469</td>\n",
       "      <td>0.456398</td>\n",
       "      <td>-0.057737</td>\n",
       "      <td>1.079780</td>\n",
       "      <td>-0.886178</td>\n",
       "      <td>-0.412138</td>\n",
       "      <td>-0.318133</td>\n",
       "      <td>0.486530</td>\n",
       "      <td>-0.405127</td>\n",
       "      <td>0.438103</td>\n",
       "      <td>0.725961</td>\n",
       "    </tr>\n",
       "    <tr>\n",
       "      <th>2</th>\n",
       "      <td>1.166139</td>\n",
       "      <td>-0.374440</td>\n",
       "      <td>-0.855796</td>\n",
       "      <td>-1.054190</td>\n",
       "      <td>0.376936</td>\n",
       "      <td>0.503636</td>\n",
       "      <td>-0.736615</td>\n",
       "      <td>1.155253</td>\n",
       "      <td>1.393809</td>\n",
       "      <td>-0.676829</td>\n",
       "      <td>0.635215</td>\n",
       "      <td>1.311106</td>\n",
       "      <td>-0.505484</td>\n",
       "      <td>0.286552</td>\n",
       "    </tr>\n",
       "    <tr>\n",
       "      <th>3</th>\n",
       "      <td>0.730793</td>\n",
       "      <td>-0.194214</td>\n",
       "      <td>0.448117</td>\n",
       "      <td>-0.952160</td>\n",
       "      <td>-0.251170</td>\n",
       "      <td>-0.463607</td>\n",
       "      <td>0.453810</td>\n",
       "      <td>-0.717097</td>\n",
       "      <td>0.853026</td>\n",
       "      <td>0.693034</td>\n",
       "      <td>-0.005939</td>\n",
       "      <td>0.241626</td>\n",
       "      <td>0.544824</td>\n",
       "      <td>-0.419230</td>\n",
       "    </tr>\n",
       "    <tr>\n",
       "      <th>4</th>\n",
       "      <td>0.781429</td>\n",
       "      <td>2.228198</td>\n",
       "      <td>-0.979172</td>\n",
       "      <td>1.041107</td>\n",
       "      <td>1.220581</td>\n",
       "      <td>1.336942</td>\n",
       "      <td>1.149344</td>\n",
       "      <td>-0.580086</td>\n",
       "      <td>-1.062001</td>\n",
       "      <td>-1.221139</td>\n",
       "      <td>-0.127378</td>\n",
       "      <td>-0.162397</td>\n",
       "      <td>-0.604864</td>\n",
       "      <td>-2.882417</td>\n",
       "    </tr>\n",
       "  </tbody>\n",
       "</table>\n",
       "</div>"
      ],
      "text/plain": [
       "      speed  net.clearance  distance.from.sideline  player.distance.travelled  \\\n",
       "0  1.251841       0.172085                0.317546                   0.172419   \n",
       "1  0.385337      -0.741854                0.315626                   0.176469   \n",
       "2  1.166139      -0.374440               -0.855796                  -1.054190   \n",
       "3  0.730793      -0.194214                0.448117                  -0.952160   \n",
       "4  0.781429       2.228198               -0.979172                   1.041107   \n",
       "\n",
       "   player.impact.depth  player.depth  previous.speed  previous.net.clearance  \\\n",
       "0             0.639689      0.552107        0.482919               -0.381947   \n",
       "1             0.456398     -0.057737        1.079780               -0.886178   \n",
       "2             0.376936      0.503636       -0.736615                1.155253   \n",
       "3            -0.251170     -0.463607        0.453810               -0.717097   \n",
       "4             1.220581      1.336942        1.149344               -0.580086   \n",
       "\n",
       "   previous.distance.from.sideline  previous.depth  opponent.depth  \\\n",
       "0                        -0.446773       -0.451524        0.181863   \n",
       "1                        -0.412138       -0.318133        0.486530   \n",
       "2                         1.393809       -0.676829        0.635215   \n",
       "3                         0.853026        0.693034       -0.005939   \n",
       "4                        -1.062001       -1.221139       -0.127378   \n",
       "\n",
       "   speed.difference  true.distance.from.sideline  true.distance.from.baseline  \n",
       "0          0.600468                     0.439649                    -1.122823  \n",
       "1         -0.405127                     0.438103                     0.725961  \n",
       "2          1.311106                    -0.505484                     0.286552  \n",
       "3          0.241626                     0.544824                    -0.419230  \n",
       "4         -0.162397                    -0.604864                    -2.882417  "
      ]
     },
     "execution_count": 165,
     "metadata": {},
     "output_type": "execute_result"
    }
   ],
   "source": [
    "X_test.head()"
   ]
  },
  {
   "cell_type": "markdown",
   "metadata": {},
   "source": [
    "## Model Building"
   ]
  },
  {
   "cell_type": "code",
   "execution_count": 172,
   "metadata": {},
   "outputs": [
    {
     "name": "stdout",
     "output_type": "stream",
     "text": [
      "Accuracy: 0.9165\n",
      "Accuracy: 0.8655672163918041\n"
     ]
    },
    {
     "name": "stderr",
     "output_type": "stream",
     "text": [
      "C:\\ProgramData\\Anaconda3\\lib\\site-packages\\sklearn\\preprocessing\\label.py:151: DeprecationWarning: The truth value of an empty array is ambiguous. Returning False, but in future this will result in an error. Use `array.size > 0` to check that an array is not empty.\n",
      "  if diff:\n",
      "C:\\ProgramData\\Anaconda3\\lib\\site-packages\\sklearn\\preprocessing\\label.py:151: DeprecationWarning: The truth value of an empty array is ambiguous. Returning False, but in future this will result in an error. Use `array.size > 0` to check that an array is not empty.\n",
      "  if diff:\n"
     ]
    }
   ],
   "source": [
    "#model\n",
    "model_xgb= XGBClassifier(n_estimators=1000, random_state= 786, learning_rate= 0.1, \n",
    "                               subsample= 0.85, colsample_bytree= 0.8, \n",
    "                               eval_metric= 'mlogloss', max_depth= 6, \n",
    "                               min_child_weight= 1, gamma= 5)\n",
    "#fit model\n",
    "model_xgb.fit(X_train, y_train)\n",
    "\n",
    "#predict\n",
    "predicted_xgb = model_xgb.predict(X_train)\n",
    "preds_val_xgb=model_xgb.predict(X_test)\n",
    "\n",
    "#Accuracy\n",
    "print ('Accuracy:', accuracy_score(y_train, predicted_xgb))\n",
    "print ('Accuracy:', accuracy_score(y_test, preds_val_xgb))"
   ]
  },
  {
   "cell_type": "markdown",
   "metadata": {},
   "source": [
    "## Adaboost"
   ]
  },
  {
   "cell_type": "code",
   "execution_count": 92,
   "metadata": {},
   "outputs": [
    {
     "data": {
      "text/plain": [
       "AdaBoostClassifier(algorithm='SAMME.R',\n",
       "          base_estimator=DecisionTreeClassifier(class_weight=None, criterion='gini', max_depth=6,\n",
       "            max_features=12, max_leaf_nodes=6, min_impurity_decrease=0.0,\n",
       "            min_impurity_split=None, min_samples_leaf=2,\n",
       "            min_samples_split=2, min_weight_fraction_leaf=0.1,\n",
       "            presort=False, random_state=123456, splitter='best'),\n",
       "          learning_rate=0.05, n_estimators=1000, random_state=None)"
      ]
     },
     "execution_count": 92,
     "metadata": {},
     "output_type": "execute_result"
    }
   ],
   "source": [
    "Adaboost_model = AdaBoostClassifier(\n",
    "    DecisionTreeClassifier(max_depth=6,max_features=12, max_leaf_nodes=6,\n",
    "            min_samples_leaf=2, min_samples_split=2,\n",
    "            min_weight_fraction_leaf=0.1, presort=False, random_state=123456,\n",
    "            splitter='best'),\n",
    "    n_estimators=1000,\n",
    "    learning_rate=0.05)\n",
    "\n",
    "\n",
    "Adaboost_model.fit(X_train, y_train)"
   ]
  },
  {
   "cell_type": "code",
   "execution_count": 93,
   "metadata": {},
   "outputs": [
    {
     "name": "stdout",
     "output_type": "stream",
     "text": [
      "Train Confusion matrix [[1046  278   34]\n",
      " [ 230 2322   70]\n",
      " [  15   37 1968]]\n",
      "Test Confusion matrix [[336 108  16]\n",
      " [107 743  29]\n",
      " [ 15  31 616]]\n",
      "Train Accuracy Score 0.8893333333333333\n",
      "Test Accuracy Score 0.8470764617691154\n"
     ]
    }
   ],
   "source": [
    "from sklearn.metrics import confusion_matrix\n",
    "y_pred=Adaboost_model.predict(X_train)\n",
    "y_pred1=Adaboost_model.predict(X_test)\n",
    "\n",
    "print(\"Train Confusion matrix\",confusion_matrix(y_train,y_pred))\n",
    "print(\"Test Confusion matrix\",confusion_matrix(y_test,y_pred1))\n",
    "\n",
    "print(\"Train Accuracy Score\",accuracy_score(y_train,y_pred))\n",
    "print(\"Test Accuracy Score\",accuracy_score(y_test,y_pred1))"
   ]
  },
  {
   "cell_type": "markdown",
   "metadata": {},
   "source": [
    "## Grid search cv"
   ]
  },
  {
   "cell_type": "code",
   "execution_count": 97,
   "metadata": {
    "scrolled": false
   },
   "outputs": [
    {
     "name": "stdout",
     "output_type": "stream",
     "text": [
      "0.8668333333333333 {'learning_rate': 0.9, 'n_estimators': 1000}\n"
     ]
    }
   ],
   "source": [
    "#from sklearn.model_selection import GridSearchCV\n",
    "from sklearn.model_selection import GridSearchCV\n",
    "param_grid = {'n_estimators':[100,150,200,500,1000], 'learning_rate' : [0.01,0.05,0.1,0.5,0.9]}\n",
    "clf = GridSearchCV(AdaBoostClassifier(\n",
    "    DecisionTreeClassifier(max_depth=6)), param_grid, n_jobs=15)\n",
    "clf.fit(X=X_train, y=y_train)\n",
    "ada_model = clf.best_estimator_\n",
    "print (clf.best_score_, clf.best_params_) "
   ]
  },
  {
   "cell_type": "code",
   "execution_count": 253,
   "metadata": {},
   "outputs": [
    {
     "name": "stdout",
     "output_type": "stream",
     "text": [
      "[[1337   21    0]\n",
      " [  14 2607    1]\n",
      " [   0    0 2020]]\n"
     ]
    },
    {
     "data": {
      "text/plain": [
       "0.907"
      ]
     },
     "execution_count": 253,
     "metadata": {},
     "output_type": "execute_result"
    }
   ],
   "source": [
    "y_pred_cv=ada_model.predict(X_train)\n",
    "print(confusion_matrix(y_train,y_pred_cv))\n",
    "accuracy_score(y_train,y_pred)"
   ]
  },
  {
   "cell_type": "code",
   "execution_count": 254,
   "metadata": {},
   "outputs": [
    {
     "name": "stdout",
     "output_type": "stream",
     "text": [
      "[[316 127  17]\n",
      " [ 82 769  28]\n",
      " [  8  32 622]]\n",
      "0.8530734632683659\n"
     ]
    }
   ],
   "source": [
    "y_pred_test_cv=ada_model.predict(X_test)\n",
    "print(confusion_matrix(y_test,y_pred_test_cv))\n",
    "print(accuracy_score(y_test,y_pred_test_cv))\n"
   ]
  },
  {
   "cell_type": "code",
   "execution_count": 167,
   "metadata": {},
   "outputs": [
    {
     "data": {
      "image/png": "[encoded data removed]",
      "text/plain": [
       "<Figure size 432x288 with 1 Axes>"
      ]
     },
     "metadata": {},
     "output_type": "display_data"
    }
   ],
   "source": [
    "import numpy as np\n",
    "import matplotlib.pyplot as plt\n",
    "features = X_train.columns\n",
    "importances = ada_model.feature_importances_\n",
    "indices = np.argsort(importances)\n",
    "\n",
    "plt.title('Feature Importances')\n",
    "plt.barh(range(len(indices)), importances[indices], color='b', align='center')\n",
    "plt.yticks(range(len(indices)), [features[i] for i in indices])\n",
    "plt.xlabel('Relative Importance')\n",
    "plt.show()\n"
   ]
  },
  {
   "cell_type": "code",
   "execution_count": 168,
   "metadata": {},
   "outputs": [
    {
     "name": "stdout",
     "output_type": "stream",
     "text": [
      "<class 'pandas.core.frame.DataFrame'>\n",
      "RangeIndex: 6000 entries, 0 to 5999\n",
      "Data columns (total 14 columns):\n",
      "speed                              6000 non-null float64\n",
      "net.clearance                      6000 non-null float64\n",
      "distance.from.sideline             6000 non-null float64\n",
      "player.distance.travelled          6000 non-null float64\n",
      "player.impact.depth                6000 non-null float64\n",
      "player.depth                       6000 non-null float64\n",
      "previous.speed                     6000 non-null float64\n",
      "previous.net.clearance             6000 non-null float64\n",
      "previous.distance.from.sideline    6000 non-null float64\n",
      "previous.depth                     6000 non-null float64\n",
      "opponent.depth                     6000 non-null float64\n",
      "speed.difference                   6000 non-null float64\n",
      "true.distance.from.sideline        6000 non-null float64\n",
      "true.distance.from.baseline        6000 non-null float64\n",
      "dtypes: float64(14)\n",
      "memory usage: 656.3 KB\n"
     ]
    }
   ],
   "source": [
    "X_train.info()"
   ]
  },
  {
   "cell_type": "code",
   "execution_count": 173,
   "metadata": {},
   "outputs": [
    {
     "data": {
      "text/html": [
       "<div>\n",
       "<style scoped>\n",
       "    .dataframe tbody tr th:only-of-type {\n",
       "        vertical-align: middle;\n",
       "    }\n",
       "\n",
       "    .dataframe tbody tr th {\n",
       "        vertical-align: top;\n",
       "    }\n",
       "\n",
       "    .dataframe thead th {\n",
       "        text-align: right;\n",
       "    }\n",
       "</style>\n",
       "<table border=\"1\" class=\"dataframe\">\n",
       "  <thead>\n",
       "    <tr style=\"text-align: right;\">\n",
       "      <th></th>\n",
       "      <th>0</th>\n",
       "      <th>1</th>\n",
       "    </tr>\n",
       "  </thead>\n",
       "  <tbody>\n",
       "    <tr>\n",
       "      <th>0</th>\n",
       "      <td>0.1157</td>\n",
       "      <td>net.clearance</td>\n",
       "    </tr>\n",
       "    <tr>\n",
       "      <th>1</th>\n",
       "      <td>0.0776</td>\n",
       "      <td>player.distance.travelled</td>\n",
       "    </tr>\n",
       "    <tr>\n",
       "      <th>2</th>\n",
       "      <td>0.0769</td>\n",
       "      <td>opponent.depth</td>\n",
       "    </tr>\n",
       "    <tr>\n",
       "      <th>3</th>\n",
       "      <td>0.0757</td>\n",
       "      <td>true.distance.from.baseline</td>\n",
       "    </tr>\n",
       "    <tr>\n",
       "      <th>4</th>\n",
       "      <td>0.0751</td>\n",
       "      <td>speed</td>\n",
       "    </tr>\n",
       "    <tr>\n",
       "      <th>5</th>\n",
       "      <td>0.0720</td>\n",
       "      <td>player.depth</td>\n",
       "    </tr>\n",
       "    <tr>\n",
       "      <th>6</th>\n",
       "      <td>0.0710</td>\n",
       "      <td>previous.distance.from.sideline</td>\n",
       "    </tr>\n",
       "    <tr>\n",
       "      <th>7</th>\n",
       "      <td>0.0704</td>\n",
       "      <td>previous.depth</td>\n",
       "    </tr>\n",
       "    <tr>\n",
       "      <th>8</th>\n",
       "      <td>0.0670</td>\n",
       "      <td>true.distance.from.sideline</td>\n",
       "    </tr>\n",
       "    <tr>\n",
       "      <th>9</th>\n",
       "      <td>0.0666</td>\n",
       "      <td>previous.net.clearance</td>\n",
       "    </tr>\n",
       "    <tr>\n",
       "      <th>10</th>\n",
       "      <td>0.0624</td>\n",
       "      <td>previous.speed</td>\n",
       "    </tr>\n",
       "    <tr>\n",
       "      <th>11</th>\n",
       "      <td>0.0589</td>\n",
       "      <td>player.impact.depth</td>\n",
       "    </tr>\n",
       "    <tr>\n",
       "      <th>12</th>\n",
       "      <td>0.0579</td>\n",
       "      <td>speed.difference</td>\n",
       "    </tr>\n",
       "    <tr>\n",
       "      <th>13</th>\n",
       "      <td>0.0529</td>\n",
       "      <td>distance.from.sideline</td>\n",
       "    </tr>\n",
       "  </tbody>\n",
       "</table>\n",
       "</div>"
      ],
      "text/plain": [
       "         0                                1\n",
       "0   0.1157                    net.clearance\n",
       "1   0.0776        player.distance.travelled\n",
       "2   0.0769                   opponent.depth\n",
       "3   0.0757      true.distance.from.baseline\n",
       "4   0.0751                            speed\n",
       "5   0.0720                     player.depth\n",
       "6   0.0710  previous.distance.from.sideline\n",
       "7   0.0704                   previous.depth\n",
       "8   0.0670      true.distance.from.sideline\n",
       "9   0.0666           previous.net.clearance\n",
       "10  0.0624                   previous.speed\n",
       "11  0.0589              player.impact.depth\n",
       "12  0.0579                 speed.difference\n",
       "13  0.0529           distance.from.sideline"
      ]
     },
     "execution_count": 173,
     "metadata": {},
     "output_type": "execute_result"
    }
   ],
   "source": [
    "impf=sorted(zip(map(lambda x: round(x, 4), ada_model.feature_importances_), X_train.columns), \n",
    "             reverse=True)\n",
    "impf = pd.DataFrame(impf, index=None)\n",
    "impf"
   ]
  },
  {
   "cell_type": "code",
   "execution_count": 185,
   "metadata": {},
   "outputs": [],
   "source": [
    "impf1 = impf[1]\n",
    "impf1=impf1[0:13]"
   ]
  },
  {
   "cell_type": "code",
   "execution_count": 186,
   "metadata": {},
   "outputs": [
    {
     "data": {
      "text/plain": [
       "0                       net.clearance\n",
       "1           player.distance.travelled\n",
       "2                      opponent.depth\n",
       "3         true.distance.from.baseline\n",
       "4                               speed\n",
       "5                        player.depth\n",
       "6     previous.distance.from.sideline\n",
       "7                      previous.depth\n",
       "8         true.distance.from.sideline\n",
       "9              previous.net.clearance\n",
       "10                     previous.speed\n",
       "11                player.impact.depth\n",
       "12                   speed.difference\n",
       "Name: 1, dtype: object"
      ]
     },
     "execution_count": 186,
     "metadata": {},
     "output_type": "execute_result"
    }
   ],
   "source": [
    "impf1"
   ]
  },
  {
   "cell_type": "code",
   "execution_count": 207,
   "metadata": {},
   "outputs": [
    {
     "data": {
      "text/plain": [
       "AdaBoostClassifier(algorithm='SAMME.R',\n",
       "          base_estimator=DecisionTreeClassifier(class_weight=None, criterion='gini', max_depth=6,\n",
       "            max_features=8, max_leaf_nodes=10, min_impurity_decrease=0.0,\n",
       "            min_impurity_split=None, min_samples_leaf=2,\n",
       "            min_samples_split=2, min_weight_fraction_leaf=0.1,\n",
       "            presort=False, random_state=121212, splitter='best'),\n",
       "          learning_rate=0.5, n_estimators=1000, random_state=None)"
      ]
     },
     "execution_count": 207,
     "metadata": {},
     "output_type": "execute_result"
    }
   ],
   "source": [
    "Adaboost_model1 = AdaBoostClassifier(\n",
    "    DecisionTreeClassifier(max_depth=6,max_features=8, max_leaf_nodes=10,\n",
    "            min_samples_leaf=2, min_samples_split=2,\n",
    "            min_weight_fraction_leaf=0.1, presort=False, random_state=121212,\n",
    "            splitter='best'),\n",
    "    n_estimators=1000,\n",
    "    learning_rate=0.5)\n",
    "\n",
    "\n",
    "Adaboost_model1.fit(X_train[impf1], y_train)"
   ]
  },
  {
   "cell_type": "code",
   "execution_count": 208,
   "metadata": {},
   "outputs": [
    {
     "name": "stdout",
     "output_type": "stream",
     "text": [
      "Train Confusion matrix [[1114  237    7]\n",
      " [ 262 2324   36]\n",
      " [   0   16 2004]]\n",
      "Test Confusion matrix [[341 101  18]\n",
      " [125 727  27]\n",
      " [ 15  33 614]]\n",
      "Train Accuracy Score 0.907\n",
      "Test Accuracy Score 0.8405797101449275\n"
     ]
    }
   ],
   "source": [
    "from sklearn.metrics import confusion_matrix\n",
    "y_pred=Adaboost_model1.predict(X_train[impf1])\n",
    "y_pred1=Adaboost_model1.predict(X_test[impf1])\n",
    "\n",
    "print(\"Train Confusion matrix\",confusion_matrix(y_train,y_pred))\n",
    "print(\"Test Confusion matrix\",confusion_matrix(y_test,y_pred1))\n",
    "\n",
    "print(\"Train Accuracy Score\",accuracy_score(y_train,y_pred))\n",
    "print(\"Test Accuracy Score\",accuracy_score(y_test,y_pred1))"
   ]
  },
  {
   "cell_type": "markdown",
   "metadata": {},
   "source": [
    "# Multinomial regression"
   ]
  },
  {
   "cell_type": "code",
   "execution_count": 226,
   "metadata": {},
   "outputs": [
    {
     "name": "stdout",
     "output_type": "stream",
     "text": [
      "Accuracy: 0.738\n",
      "Accuracy: 0.7146426786606697\n"
     ]
    }
   ],
   "source": [
    "from sklearn.linear_model import LogisticRegression, LogisticRegressionCV\n",
    "mul_lr = LogisticRegression(multi_class='multinomial', solver='newton-cg', warm_start=True, random_state=12345, n_jobs=100).fit(X_train, y_train)\n",
    "predicted_mlr = mul_lr.predict(X_train)\n",
    "preds_val_mlr=mul_lr.predict(X_test)\n",
    "print ('Accuracy:', accuracy_score(y_train, predicted_mlr))\n",
    "print ('Accuracy:', accuracy_score(y_test, preds_val_mlr))"
   ]
  },
  {
   "cell_type": "markdown",
   "metadata": {},
   "source": [
    "## SVM"
   ]
  },
  {
   "cell_type": "code",
   "execution_count": 228,
   "metadata": {},
   "outputs": [
    {
     "name": "stdout",
     "output_type": "stream",
     "text": [
      "Accuracy: 0.7448333333333333\n",
      "Accuracy: 0.7326336831584208\n"
     ]
    }
   ],
   "source": [
    "from sklearn.svm import SVC # \"Support Vector Classifier\" \n",
    "clf_svm = SVC(kernel='linear', gamma=5) \n",
    "\n",
    "# fitting x samples and y classes \n",
    "clf_svm.fit(X_train, y_train)\n",
    "predicted_svm = clf_svm.predict(X_train)\n",
    "preds_val_svm=clf_svm.predict(X_test)\n",
    "print ('Accuracy:', accuracy_score(y_train, predicted_svm))\n",
    "print ('Accuracy:', accuracy_score(y_test, preds_val_svm))"
   ]
  },
  {
   "cell_type": "markdown",
   "metadata": {},
   "source": [
    "# Build KNN Classifier"
   ]
  },
  {
   "cell_type": "code",
   "execution_count": 252,
   "metadata": {
    "scrolled": true
   },
   "outputs": [
    {
     "name": "stdout",
     "output_type": "stream",
     "text": [
      "0.821\n",
      "0.7361319340329835\n"
     ]
    }
   ],
   "source": [
    "from sklearn.neighbors import KNeighborsClassifier\n",
    "knn_model= KNeighborsClassifier(algorithm = 'kd_tree',n_neighbors=7, weights='uniform', n_jobs=100 , p=2)\n",
    "knn_model.fit(X_train,y_train)\n",
    "\n",
    "#predictions\n",
    "y_pred_train_knn = knn_model.predict(X_train)\n",
    "y_pred_test_knn = knn_model.predict(X_test)\n",
    "\n",
    "#Accuracy check\n",
    "print(accuracy_score(y_train,y_pred_train_knn))\n",
    "print(accuracy_score(y_test,y_pred_test_knn))\n"
   ]
  },
  {
   "cell_type": "code",
   "execution_count": null,
   "metadata": {},
   "outputs": [],
   "source": []
  },
  {
   "cell_type": "markdown",
   "metadata": {},
   "source": [
    "# GridSearch Cross validation"
   ]
  },
  {
   "cell_type": "code",
   "execution_count": 248,
   "metadata": {},
   "outputs": [
    {
     "name": "stderr",
     "output_type": "stream",
     "text": [
      "C:\\ProgramData\\Anaconda3\\lib\\site-packages\\sklearn\\cross_validation.py:41: DeprecationWarning: This module was deprecated in version 0.18 in favor of the model_selection module into which all the refactored classes and functions are moved. Also note that the interface of the new CV iterators are different from that of this module. This module will be removed in 0.20.\n",
      "  \"This module will be removed in 0.20.\", DeprecationWarning)\n",
      "C:\\ProgramData\\Anaconda3\\lib\\site-packages\\sklearn\\grid_search.py:42: DeprecationWarning: This module was deprecated in version 0.18 in favor of the model_selection module into which all the refactored classes and functions are moved. This module will be removed in 0.20.\n",
      "  DeprecationWarning)\n"
     ]
    },
    {
     "name": "stdout",
     "output_type": "stream",
     "text": [
      "Fitting 3 folds for each of 12 candidates, totalling 36 fits\n",
      "0.7563333333333333 {'n_neighbors': 12}\n"
     ]
    },
    {
     "name": "stderr",
     "output_type": "stream",
     "text": [
      "[Parallel(n_jobs=4)]: Done  36 out of  36 | elapsed:   12.8s finished\n"
     ]
    }
   ],
   "source": [
    "#from sklearn.model_selection import GridSearchCV\n",
    "from sklearn.grid_search import GridSearchCV\n",
    "parameters = {'n_neighbors':list(range(3,15))}\n",
    "clf = GridSearchCV(KNeighborsClassifier(), parameters, n_jobs=4,verbose=2)\n",
    "clf.fit(X=X_train, y=y_train)\n",
    "knn_model = clf.best_estimator_\n",
    "print (clf.best_score_, clf.best_params_) "
   ]
  },
  {
   "cell_type": "code",
   "execution_count": 251,
   "metadata": {},
   "outputs": [
    {
     "name": "stdout",
     "output_type": "stream",
     "text": [
      "0.8075\n",
      "0.7526236881559221\n"
     ]
    }
   ],
   "source": [
    "y_pred_train_knn_cv=knn_model.predict(X_train)\n",
    "y_pred_test_knn_cv=knn_model.predict(X_test)\n",
    "\n",
    "print(accuracy_score(y_train,y_pred_train_knn_cv))\n",
    "print(accuracy_score(y_test,y_pred_test_knn_cv))"
   ]
  },
  {
   "cell_type": "markdown",
   "metadata": {},
   "source": [
    "## Stacking"
   ]
  },
  {
   "cell_type": "code",
   "execution_count": 368,
   "metadata": {},
   "outputs": [
    {
     "data": {
      "text/html": [
       "<div>\n",
       "<style scoped>\n",
       "    .dataframe tbody tr th:only-of-type {\n",
       "        vertical-align: middle;\n",
       "    }\n",
       "\n",
       "    .dataframe tbody tr th {\n",
       "        vertical-align: top;\n",
       "    }\n",
       "\n",
       "    .dataframe thead th {\n",
       "        text-align: right;\n",
       "    }\n",
       "</style>\n",
       "<table border=\"1\" class=\"dataframe\">\n",
       "  <thead>\n",
       "    <tr style=\"text-align: right;\">\n",
       "      <th></th>\n",
       "      <th>Gridcvknn</th>\n",
       "      <th>AdaBoost_cv</th>\n",
       "      <th>XGBoost</th>\n",
       "      <th>Multinom</th>\n",
       "      <th>svm</th>\n",
       "    </tr>\n",
       "  </thead>\n",
       "  <tbody>\n",
       "    <tr>\n",
       "      <th>0</th>\n",
       "      <td>UE</td>\n",
       "      <td>FE</td>\n",
       "      <td>FE</td>\n",
       "      <td>UE</td>\n",
       "      <td>UE</td>\n",
       "    </tr>\n",
       "    <tr>\n",
       "      <th>1</th>\n",
       "      <td>UE</td>\n",
       "      <td>UE</td>\n",
       "      <td>UE</td>\n",
       "      <td>UE</td>\n",
       "      <td>UE</td>\n",
       "    </tr>\n",
       "    <tr>\n",
       "      <th>2</th>\n",
       "      <td>UE</td>\n",
       "      <td>UE</td>\n",
       "      <td>UE</td>\n",
       "      <td>UE</td>\n",
       "      <td>UE</td>\n",
       "    </tr>\n",
       "    <tr>\n",
       "      <th>3</th>\n",
       "      <td>UE</td>\n",
       "      <td>FE</td>\n",
       "      <td>FE</td>\n",
       "      <td>FE</td>\n",
       "      <td>FE</td>\n",
       "    </tr>\n",
       "    <tr>\n",
       "      <th>4</th>\n",
       "      <td>W</td>\n",
       "      <td>W</td>\n",
       "      <td>W</td>\n",
       "      <td>UE</td>\n",
       "      <td>UE</td>\n",
       "    </tr>\n",
       "  </tbody>\n",
       "</table>\n",
       "</div>"
      ],
      "text/plain": [
       "  Gridcvknn AdaBoost_cv XGBoost Multinom svm\n",
       "0        UE          FE      FE       UE  UE\n",
       "1        UE          UE      UE       UE  UE\n",
       "2        UE          UE      UE       UE  UE\n",
       "3        UE          FE      FE       FE  FE\n",
       "4         W           W       W       UE  UE"
      ]
     },
     "execution_count": 368,
     "metadata": {},
     "output_type": "execute_result"
    }
   ],
   "source": [
    "base_predictions_train = pd.DataFrame( {'Gridcvknn': y_pred_train_knn_cv,\n",
    "     'AdaBoost_cv': y_pred_cv,\n",
    "      'XGBoost': predicted_xgb,\n",
    "     'Multinom': predicted_mlr,\n",
    "      'svm': predicted_svm,\n",
    "                                        \n",
    "    })\n",
    "base_predictions_train.head()"
   ]
  },
  {
   "cell_type": "code",
   "execution_count": 340,
   "metadata": {},
   "outputs": [
    {
     "data": {
      "text/plain": [
       "(6000,)"
      ]
     },
     "execution_count": 340,
     "metadata": {},
     "output_type": "execute_result"
    }
   ],
   "source": [
    "temp= pd.DataFrame(y_pred_train_knn_cv)\n",
    "target.shape"
   ]
  },
  {
   "cell_type": "code",
   "execution_count": 369,
   "metadata": {},
   "outputs": [
    {
     "data": {
      "text/html": [
       "<div>\n",
       "<style scoped>\n",
       "    .dataframe tbody tr th:only-of-type {\n",
       "        vertical-align: middle;\n",
       "    }\n",
       "\n",
       "    .dataframe tbody tr th {\n",
       "        vertical-align: top;\n",
       "    }\n",
       "\n",
       "    .dataframe thead th {\n",
       "        text-align: right;\n",
       "    }\n",
       "</style>\n",
       "<table border=\"1\" class=\"dataframe\">\n",
       "  <thead>\n",
       "    <tr style=\"text-align: right;\">\n",
       "      <th></th>\n",
       "      <th>Gridcvknn</th>\n",
       "      <th>AdaBoost_cv</th>\n",
       "      <th>XGBoost</th>\n",
       "      <th>Multinom</th>\n",
       "      <th>svm</th>\n",
       "    </tr>\n",
       "  </thead>\n",
       "  <tbody>\n",
       "    <tr>\n",
       "      <th>0</th>\n",
       "      <td>UE</td>\n",
       "      <td>UE</td>\n",
       "      <td>UE</td>\n",
       "      <td>UE</td>\n",
       "      <td>UE</td>\n",
       "    </tr>\n",
       "    <tr>\n",
       "      <th>1</th>\n",
       "      <td>UE</td>\n",
       "      <td>UE</td>\n",
       "      <td>UE</td>\n",
       "      <td>UE</td>\n",
       "      <td>UE</td>\n",
       "    </tr>\n",
       "    <tr>\n",
       "      <th>2</th>\n",
       "      <td>W</td>\n",
       "      <td>W</td>\n",
       "      <td>W</td>\n",
       "      <td>UE</td>\n",
       "      <td>W</td>\n",
       "    </tr>\n",
       "    <tr>\n",
       "      <th>3</th>\n",
       "      <td>W</td>\n",
       "      <td>W</td>\n",
       "      <td>W</td>\n",
       "      <td>UE</td>\n",
       "      <td>UE</td>\n",
       "    </tr>\n",
       "    <tr>\n",
       "      <th>4</th>\n",
       "      <td>UE</td>\n",
       "      <td>UE</td>\n",
       "      <td>FE</td>\n",
       "      <td>FE</td>\n",
       "      <td>FE</td>\n",
       "    </tr>\n",
       "  </tbody>\n",
       "</table>\n",
       "</div>"
      ],
      "text/plain": [
       "  Gridcvknn AdaBoost_cv XGBoost Multinom svm\n",
       "0        UE          UE      UE       UE  UE\n",
       "1        UE          UE      UE       UE  UE\n",
       "2         W           W       W       UE   W\n",
       "3         W           W       W       UE  UE\n",
       "4        UE          UE      FE       FE  FE"
      ]
     },
     "execution_count": 369,
     "metadata": {},
     "output_type": "execute_result"
    }
   ],
   "source": [
    "base_predictions_test = pd.DataFrame( {'Gridcvknn': y_pred_test_knn_cv,\n",
    "     'AdaBoost_cv': y_pred_test_cv,\n",
    "     'XGBoost': preds_val_xgb,\n",
    "     'Multinom': preds_val_mlr,\n",
    "     'svm': preds_val_svm,\n",
    "                                        \n",
    "    })\n",
    "base_predictions_test.head()"
   ]
  },
  {
   "cell_type": "code",
   "execution_count": 370,
   "metadata": {},
   "outputs": [],
   "source": [
    "base_predictions_train[\"Gridcvknn\"] = base_predictions_train[\"Gridcvknn\"].replace({\"FE\":1,\"UE\":2, \"W\":3}) \n",
    "base_predictions_train[\"AdaBoost_cv\"] = base_predictions_train[\"AdaBoost_cv\"].replace({\"FE\":1,\"UE\":2, \"W\":3}) \n",
    "base_predictions_train[\"XGBoost\"] = base_predictions_train[\"XGBoost\"].replace({\"FE\":1,\"UE\":2, \"W\":3}) \n",
    "base_predictions_train[\"Multinom\"] = base_predictions_train[\"Multinom\"].replace({\"FE\":1,\"UE\":2, \"W\":3}) \n",
    "base_predictions_train[\"svm\"] = base_predictions_train[\"svm\"].replace({\"FE\":1,\"UE\":2, \"W\":3}) \n",
    "target = y_train.map({\"FE\":1,\"UE\":2, \"W\":3})#using gradient boosting method called Catboost which will accept catagorical variables\n"
   ]
  },
  {
   "cell_type": "code",
   "execution_count": 371,
   "metadata": {
    "scrolled": true
   },
   "outputs": [],
   "source": [
    "#base_predictions_test[\"Gridcvknn\",\"knn\",\"AdaBoost_cv\",\"XGBoost\",\"Multinom\",\"svm\"] =base_predictions_test[\"Gridcvknn\",\"knn\",\"AdaBoost_cv\",\"XGBoost\",\"Multinom\",\"svm\"].map({\"FE\":1,\"UE\":2, \"W\":3})\n",
    "base_predictions_test[\"Gridcvknn\"] = base_predictions_test[\"Gridcvknn\"].replace({\"FE\":1,\"UE\":2, \"W\":3}) \n",
    "base_predictions_test[\"AdaBoost_cv\"] = base_predictions_test[\"AdaBoost_cv\"].replace({\"FE\":1,\"UE\":2, \"W\":3}) \n",
    "base_predictions_test[\"XGBoost\"] = base_predictions_test[\"XGBoost\"].replace({\"FE\":1,\"UE\":2, \"W\":3}) \n",
    "base_predictions_test[\"Multinom\"] = base_predictions_test[\"Multinom\"].replace({\"FE\":1,\"UE\":2, \"W\":3}) \n",
    "base_predictions_test[\"svm\"] = base_predictions_test[\"svm\"].replace({\"FE\":1,\"UE\":2, \"W\":3}) \n",
    "test_target= y_test.map({\"FE\":1,\"UE\":2, \"W\":3})"
   ]
  },
  {
   "cell_type": "code",
   "execution_count": 329,
   "metadata": {},
   "outputs": [],
   "source": [
    "cat_cols= [\"Gridcvknn\",\"AdaBoost_cv\",\"XGBoost\",\"Multinom\",\"svm\"]\n",
    "base_predictions_train[cat_cols]= base_predictions_train[cat_cols].astype('int64')\n",
    "base_predictions_test[cat_cols]= base_predictions_test[cat_cols].astype('int64')\n"
   ]
  },
  {
   "cell_type": "markdown",
   "metadata": {},
   "source": [
    "## Decision Tree"
   ]
  },
  {
   "cell_type": "code",
   "execution_count": 372,
   "metadata": {},
   "outputs": [],
   "source": [
    "from sklearn.tree import DecisionTreeClassifier \n",
    "clf_entropy = DecisionTreeClassifier( \n",
    "            criterion = \"entropy\", random_state = 4444, \n",
    "            max_depth = 6, min_samples_leaf = 4) \n",
    "clf_gini = DecisionTreeClassifier(criterion = \"gini\", \n",
    "            random_state = 4444,max_depth=6, min_samples_leaf=4) \n",
    "  \n",
    "# Performing training \n",
    "clf_entropy.fit(base_predictions_train, target)\n",
    "clf_gini.fit(base_predictions_train, target)\n",
    "\n",
    "predicted_DT_gini_stack = clf_gini.predict(base_predictions_train)\n",
    "predicted_DT_entropy_stack = clf_entropy.predict(base_predictions_train)\n",
    "\n",
    "preds1_gini_stack=clf_gini.predict(base_predictions_test)\n",
    "preds1_entropy_stack=clf_entropy.predict(base_predictions_test)"
   ]
  },
  {
   "cell_type": "code",
   "execution_count": 373,
   "metadata": {},
   "outputs": [
    {
     "name": "stdout",
     "output_type": "stream",
     "text": [
      "Accuracy train gini: 0.994\n",
      "Accuracy test gini: 0.8530734632683659\n",
      "Accuracy train entropy: 0.994\n",
      "Accuracy test entropy: 0.8530734632683659\n"
     ]
    }
   ],
   "source": [
    "print ('Accuracy train gini:', accuracy_score(target, predicted_DT_gini_stack))\n",
    "print ('Accuracy test gini:', accuracy_score(test_target, preds1_gini_stack))\n",
    "\n",
    "print ('Accuracy train entropy:', accuracy_score(target, predicted_DT_entropy_stack))\n",
    "print ('Accuracy test entropy:', accuracy_score(test_target, preds1_entropy_stack))\n"
   ]
  },
  {
   "cell_type": "code",
   "execution_count": null,
   "metadata": {},
   "outputs": [],
   "source": []
  },
  {
   "cell_type": "markdown",
   "metadata": {},
   "source": [
    "## Logistic Regression on Stacked DF"
   ]
  },
  {
   "cell_type": "code",
   "execution_count": 389,
   "metadata": {},
   "outputs": [
    {
     "name": "stdout",
     "output_type": "stream",
     "text": [
      "Accuracy: 0.994\n",
      "Accuracy: 0.8530734632683659\n"
     ]
    }
   ],
   "source": [
    "lr = LogisticRegression(penalty='l2', max_iter=100, solver='newton-cg')\n",
    "lr.fit(base_predictions_train, target)\n",
    "predicted_lr = lr.predict(base_predictions_train)\n",
    "preds_val_lr=lr.predict(base_predictions_test)\n",
    "print ('Accuracy:', accuracy_score(target, predicted_lr))\n",
    "print ('Accuracy:', accuracy_score(test_target, preds_val_lr))"
   ]
  },
  {
   "cell_type": "code",
   "execution_count": null,
   "metadata": {},
   "outputs": [],
   "source": []
  }
 ],
 "metadata": {
  "kernelspec": {
   "display_name": "Python 3",
   "language": "python",
   "name": "python3"
  },
  "language_info": {
   "codemirror_mode": {
    "name": "ipython",
    "version": 3
   },
   "file_extension": ".py",
   "mimetype": "text/x-python",
   "name": "python",
   "nbconvert_exporter": "python",
   "pygments_lexer": "ipython3",
   "version": "3.6.5"
  }
 },
 "nbformat": 4,
 "nbformat_minor": 2
}
